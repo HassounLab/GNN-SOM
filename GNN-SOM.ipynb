{
 "cells": [
  {
   "cell_type": "markdown",
   "id": "46c97e78",
   "metadata": {},
   "source": [
    "# Using Graph Neural Networks for Site-of-Metabolism Prediction and its Applications to Ranking Promiscuous Enzymatic Products\n",
    "\n",
    "This notebook demonstrates usage of the GNN-SOM models for site-of-metabolism prediction."
   ]
  },
  {
   "cell_type": "code",
   "execution_count": 1,
   "id": "e237f255",
   "metadata": {},
   "outputs": [
    {
     "name": "stderr",
     "output_type": "stream",
     "text": [
      "/home/user/anaconda3/envs/som/lib/python3.9/site-packages/tqdm/auto.py:22: TqdmWarning: IProgress not found. Please update jupyter and ipywidgets. See https://ipywidgets.readthedocs.io/en/stable/user_install.html\n",
      "  from .autonotebook import tqdm as notebook_tqdm\n"
     ]
    }
   ],
   "source": [
    "import json\n",
    "from os.path import isfile\n",
    "\n",
    "import torch\n",
    "from torch_geometric.data import Data\n",
    "from rdkit.Chem import Draw\n",
    "import requests\n",
    "\n",
    "from IPython.display import SVG\n",
    "\n",
    "from gnn_som import createGnnSom, loadGnnSomState\n",
    "from gnn_som.MolFromKcf import MolFromKcfFile"
   ]
  },
  {
   "cell_type": "markdown",
   "id": "56e214f0",
   "metadata": {},
   "source": [
    "Load configuration file. This file describes feature mappings as well as various model parameters needed to bring them up."
   ]
  },
  {
   "cell_type": "code",
   "execution_count": 2,
   "id": "74282780",
   "metadata": {},
   "outputs": [],
   "source": [
    "with open('data/config.json', 'r') as f:\n",
    "    config = json.load(f)\n",
    "config['features']['enzyme'] = [tuple(ec) for ec in config['features']['enzyme']] "
   ]
  },
  {
   "cell_type": "markdown",
   "id": "ec9ffea7",
   "metadata": {},
   "source": [
    "Configure several variants of the model, each was trained on a different data split and all will contribute to the final SOM prediction."
   ]
  },
  {
   "cell_type": "code",
   "execution_count": 3,
   "id": "e5cd09f9",
   "metadata": {},
   "outputs": [],
   "source": [
    "models = []\n",
    "for i, params in enumerate(config['models']):\n",
    "    model = createGnnSom(*config['models'][i])\n",
    "    loadGnnSomState(model, torch.load('data/model%d.pt' % i, map_location=torch.device('cpu')))\n",
    "    models.append(model)"
   ]
  },
  {
   "cell_type": "markdown",
   "id": "30df851a",
   "metadata": {},
   "source": [
    "Load the query molecule and select the enzyme. In this example, we evaluate interaction between compound [C00355](https://www.genome.jp/entry/C00355) and enzyme [1.10.3.1](https://www.genome.jp/entry/1.10.3.1), which corresponds to the right side of rpair RP00123."
   ]
  },
  {
   "cell_type": "code",
   "execution_count": 4,
   "id": "95f84c78",
   "metadata": {},
   "outputs": [
    {
     "data": {
      "image/png": "[encoded data removed]",
      "text/plain": [
       "<rdkit.Chem.rdchem.RWMol at 0x7f3d3cf3f810>"
      ]
     },
     "execution_count": 4,
     "metadata": {},
     "output_type": "execute_result"
    }
   ],
   "source": [
    "molecule = 'C00355'\n",
    "enzyme = (1, 10)\n",
    "if not isfile(molecule + '.kcf'):\n",
    "    with open(molecule + '.kcf', 'wb') as f:\n",
    "        f.write(requests.get('https://www.genome.jp/entry/-f+k+' + molecule).content)\n",
    "mol = MolFromKcfFile(molecule + '.kcf')\n",
    "mol"
   ]
  },
  {
   "cell_type": "markdown",
   "id": "9ff43d2a",
   "metadata": {},
   "source": [
    "Construct a graph representation of the molecule, which includes atom feature vectors and bond connectivity."
   ]
  },
  {
   "cell_type": "code",
   "execution_count": 5,
   "id": "5f3875ed",
   "metadata": {},
   "outputs": [
    {
     "data": {
      "text/plain": [
       "Data(x=[14, 157], edgeIndex=[2, 28])"
      ]
     },
     "execution_count": 5,
     "metadata": {},
     "output_type": "execute_result"
    }
   ],
   "source": [
    "numFeatures = sum(len(feature) for feature in config['features'].values())\n",
    "x = torch.zeros((mol.GetNumAtoms(), numFeatures), dtype=torch.float32)\n",
    "for atom in mol.GetAtoms():\n",
    "    x[atom.GetIdx(), config['features']['enzyme'].index(enzyme)] = 1\n",
    "    offset = len(config['features']['enzyme'])\n",
    "    x[atom.GetIdx(), offset + config['features']['element'].index(atom.GetSymbol())] = 1\n",
    "    offset += len(config['features']['element'])\n",
    "    x[atom.GetIdx(), offset + config['features']['kcfType'].index(atom.GetProp('kcfType'))] = 1\n",
    "\n",
    "edgeIndex = torch.zeros((2, mol.GetNumBonds() * 2), dtype=torch.int64)\n",
    "for bond in mol.GetBonds():\n",
    "    i = bond.GetIdx()\n",
    "    edgeIndex[0][i * 2] = bond.GetBeginAtomIdx()\n",
    "    edgeIndex[1][i * 2] = bond.GetEndAtomIdx()\n",
    "    edgeIndex[0][i * 2 + 1] = bond.GetEndAtomIdx()\n",
    "    edgeIndex[1][i * 2 + 1] = bond.GetBeginAtomIdx()\n",
    "\n",
    "data = Data(x=x, edgeIndex=edgeIndex)\n",
    "data"
   ]
  },
  {
   "cell_type": "markdown",
   "id": "9616b5b7",
   "metadata": {},
   "source": [
    "Predict SOM labels using multiple models and retain the average value for each atom."
   ]
  },
  {
   "cell_type": "code",
   "execution_count": 6,
   "id": "1c17ba7d",
   "metadata": {},
   "outputs": [
    {
     "data": {
      "text/plain": [
       "torch.Size([14, 1])"
      ]
     },
     "execution_count": 6,
     "metadata": {},
     "output_type": "execute_result"
    }
   ],
   "source": [
    "y = None\n",
    "for model in models:\n",
    "    newY = torch.sigmoid(model(data.x, data.edgeIndex))\n",
    "    y = newY if y is None else torch.add(y, newY)\n",
    "y = torch.div(y, len(models))\n",
    "y.shape"
   ]
  },
  {
   "cell_type": "raw",
   "id": "30d0131a",
   "metadata": {},
   "source": [
    "Annotate a drawing of the molecule with obtained SOM predictions."
   ]
  },
  {
   "cell_type": "code",
   "execution_count": 7,
   "id": "4e20e473",
   "metadata": {
    "scrolled": true
   },
   "outputs": [
    {
     "data": {
      "image/svg+xml": [
       "<svg xmlns=\"http://www.w3.org/2000/svg\" xmlns:rdkit=\"http://www.rdkit.org/xml\" xmlns:xlink=\"http://www.w3.org/1999/xlink\" version=\"1.1\" baseProfile=\"full\" xml:space=\"preserve\" width=\"450px\" height=\"300px\" viewBox=\"0 0 450 300\">\n",
       "<!-- END OF HEADER -->\n",
       "<rect style=\"opacity:1.0;fill:#FFFFFF;stroke:none\" width=\"450.0\" height=\"300.0\" x=\"0.0\" y=\"0.0\"> </rect>\n",
       "<ellipse cx=\"98.2\" cy=\"152.9\" rx=\"16.9\" ry=\"16.9\" class=\"atom-0\" style=\"fill:#0088CC;fill-rule:evenodd;stroke:#0088CC;stroke-width:1.0px;stroke-linecap:butt;stroke-linejoin:miter;stroke-opacity:1\"/>\n",
       "<ellipse cx=\"98.2\" cy=\"212.1\" rx=\"16.9\" ry=\"16.9\" class=\"atom-1\" style=\"fill:#2092CC;fill-rule:evenodd;stroke:#2092CC;stroke-width:1.0px;stroke-linecap:butt;stroke-linejoin:miter;stroke-opacity:1\"/>\n",
       "<ellipse cx=\"148.5\" cy=\"123.3\" rx=\"16.9\" ry=\"16.9\" class=\"atom-2\" style=\"fill:#CBCBCC;fill-rule:evenodd;stroke:#CBCBCC;stroke-width:1.0px;stroke-linecap:butt;stroke-linejoin:miter;stroke-opacity:1\"/>\n",
       "<ellipse cx=\"44.9\" cy=\"123.3\" rx=\"16.9\" ry=\"16.9\" class=\"atom-3\" style=\"fill:#1A90CC;fill-rule:evenodd;stroke:#1A90CC;stroke-width:1.0px;stroke-linecap:butt;stroke-linejoin:miter;stroke-opacity:1\"/>\n",
       "<ellipse cx=\"148.5\" cy=\"241.7\" rx=\"16.9\" ry=\"16.9\" class=\"atom-4\" style=\"fill:#A9C0CC;fill-rule:evenodd;stroke:#A9C0CC;stroke-width:1.0px;stroke-linecap:butt;stroke-linejoin:miter;stroke-opacity:1\"/>\n",
       "<ellipse cx=\"44.9\" cy=\"241.7\" rx=\"16.9\" ry=\"16.9\" class=\"atom-5\" style=\"fill:#BDC7CC;fill-rule:evenodd;stroke:#BDC7CC;stroke-width:1.0px;stroke-linecap:butt;stroke-linejoin:miter;stroke-opacity:1\"/>\n",
       "<ellipse cx=\"198.8\" cy=\"152.9\" rx=\"16.9\" ry=\"16.9\" class=\"atom-6\" style=\"fill:#B3C3CC;fill-rule:evenodd;stroke:#B3C3CC;stroke-width:1.0px;stroke-linecap:butt;stroke-linejoin:miter;stroke-opacity:1\"/>\n",
       "<ellipse cx=\"198.8\" cy=\"212.1\" rx=\"16.9\" ry=\"16.9\" class=\"atom-7\" style=\"fill:#9BBBCC;fill-rule:evenodd;stroke:#9BBBCC;stroke-width:1.0px;stroke-linecap:butt;stroke-linejoin:miter;stroke-opacity:1\"/>\n",
       "<ellipse cx=\"252.1\" cy=\"126.3\" rx=\"16.9\" ry=\"16.9\" class=\"atom-8\" style=\"fill:#B4C4CC;fill-rule:evenodd;stroke:#B4C4CC;stroke-width:1.0px;stroke-linecap:butt;stroke-linejoin:miter;stroke-opacity:1\"/>\n",
       "<ellipse cx=\"302.4\" cy=\"152.9\" rx=\"16.9\" ry=\"16.9\" class=\"atom-9\" style=\"fill:#C9CBCC;fill-rule:evenodd;stroke:#C9CBCC;stroke-width:1.0px;stroke-linecap:butt;stroke-linejoin:miter;stroke-opacity:1\"/>\n",
       "<ellipse cx=\"352.7\" cy=\"126.3\" rx=\"16.9\" ry=\"16.9\" class=\"atom-10\" style=\"fill:#C8CACC;fill-rule:evenodd;stroke:#C8CACC;stroke-width:1.0px;stroke-linecap:butt;stroke-linejoin:miter;stroke-opacity:1\"/>\n",
       "<ellipse cx=\"302.4\" cy=\"212.1\" rx=\"16.9\" ry=\"16.9\" class=\"atom-11\" style=\"fill:#C3C9CC;fill-rule:evenodd;stroke:#C3C9CC;stroke-width:1.0px;stroke-linecap:butt;stroke-linejoin:miter;stroke-opacity:1\"/>\n",
       "<ellipse cx=\"406.0\" cy=\"152.9\" rx=\"16.9\" ry=\"16.9\" class=\"atom-12\" style=\"fill:#CBCBCC;fill-rule:evenodd;stroke:#CBCBCC;stroke-width:1.0px;stroke-linecap:butt;stroke-linejoin:miter;stroke-opacity:1\"/>\n",
       "<ellipse cx=\"352.7\" cy=\"67.1\" rx=\"16.9\" ry=\"16.9\" class=\"atom-13\" style=\"fill:#CCCCCC;fill-rule:evenodd;stroke:#CCCCCC;stroke-width:1.0px;stroke-linecap:butt;stroke-linejoin:miter;stroke-opacity:1\"/>\n",
       "<path class=\"bond-0 atom-0 atom-1\" d=\"M 98.2,152.9 L 98.2,212.1\" style=\"fill:none;fill-rule:evenodd;stroke:#000000;stroke-width:2.0px;stroke-linecap:butt;stroke-linejoin:miter;stroke-opacity:1\"/>\n",
       "<path class=\"bond-1 atom-0 atom-2\" d=\"M 98.2,152.9 L 148.5,123.3\" style=\"fill:none;fill-rule:evenodd;stroke:#000000;stroke-width:2.0px;stroke-linecap:butt;stroke-linejoin:miter;stroke-opacity:1\"/>\n",
       "<path class=\"bond-1 atom-0 atom-2\" d=\"M 112.2,159.4 L 147.4,138.7\" style=\"fill:none;fill-rule:evenodd;stroke:#000000;stroke-width:2.0px;stroke-linecap:butt;stroke-linejoin:miter;stroke-opacity:1\"/>\n",
       "<path class=\"bond-2 atom-0 atom-3\" d=\"M 98.2,152.9 L 76.6,140.9\" style=\"fill:none;fill-rule:evenodd;stroke:#000000;stroke-width:2.0px;stroke-linecap:butt;stroke-linejoin:miter;stroke-opacity:1\"/>\n",
       "<path class=\"bond-2 atom-0 atom-3\" d=\"M 76.6,140.9 L 55.1,129.0\" style=\"fill:none;fill-rule:evenodd;stroke:#FF0000;stroke-width:2.0px;stroke-linecap:butt;stroke-linejoin:miter;stroke-opacity:1\"/>\n",
       "<path class=\"bond-3 atom-1 atom-4\" d=\"M 98.2,212.1 L 148.5,241.7\" style=\"fill:none;fill-rule:evenodd;stroke:#000000;stroke-width:2.0px;stroke-linecap:butt;stroke-linejoin:miter;stroke-opacity:1\"/>\n",
       "<path class=\"bond-3 atom-1 atom-4\" d=\"M 112.2,205.6 L 147.4,226.3\" style=\"fill:none;fill-rule:evenodd;stroke:#000000;stroke-width:2.0px;stroke-linecap:butt;stroke-linejoin:miter;stroke-opacity:1\"/>\n",
       "<path class=\"bond-4 atom-1 atom-5\" d=\"M 98.2,212.1 L 76.6,224.1\" style=\"fill:none;fill-rule:evenodd;stroke:#000000;stroke-width:2.0px;stroke-linecap:butt;stroke-linejoin:miter;stroke-opacity:1\"/>\n",
       "<path class=\"bond-4 atom-1 atom-5\" d=\"M 76.6,224.1 L 55.1,236.0\" style=\"fill:none;fill-rule:evenodd;stroke:#FF0000;stroke-width:2.0px;stroke-linecap:butt;stroke-linejoin:miter;stroke-opacity:1\"/>\n",
       "<path class=\"bond-5 atom-2 atom-6\" d=\"M 148.5,123.3 L 198.8,152.9\" style=\"fill:none;fill-rule:evenodd;stroke:#000000;stroke-width:2.0px;stroke-linecap:butt;stroke-linejoin:miter;stroke-opacity:1\"/>\n",
       "<path class=\"bond-6 atom-4 atom-7\" d=\"M 148.5,241.7 L 198.8,212.1\" style=\"fill:none;fill-rule:evenodd;stroke:#000000;stroke-width:2.0px;stroke-linecap:butt;stroke-linejoin:miter;stroke-opacity:1\"/>\n",
       "<path class=\"bond-7 atom-6 atom-8\" d=\"M 198.8,152.9 L 252.1,126.3\" style=\"fill:none;fill-rule:evenodd;stroke:#000000;stroke-width:2.0px;stroke-linecap:butt;stroke-linejoin:miter;stroke-opacity:1\"/>\n",
       "<path class=\"bond-8 atom-8 atom-9\" d=\"M 252.1,126.3 L 302.4,152.9\" style=\"fill:none;fill-rule:evenodd;stroke:#000000;stroke-width:2.0px;stroke-linecap:butt;stroke-linejoin:miter;stroke-opacity:1\"/>\n",
       "<path class=\"bond-9 atom-9 atom-10\" d=\"M 302.4,152.9 L 352.7,126.3\" style=\"fill:none;fill-rule:evenodd;stroke:#000000;stroke-width:2.0px;stroke-linecap:butt;stroke-linejoin:miter;stroke-opacity:1\"/>\n",
       "<path class=\"bond-10 atom-9 atom-11\" d=\"M 302.4,152.9 L 305.3,176.1 L 299.4,176.1 Z\" style=\"fill:#000000;fill-rule:evenodd;fill-opacity:1;stroke:#000000;stroke-width:1.0px;stroke-linecap:butt;stroke-linejoin:miter;stroke-opacity:1;\"/>\n",
       "<path class=\"bond-10 atom-9 atom-11\" d=\"M 305.3,176.1 L 296.5,199.2 L 308.3,199.2 Z\" style=\"fill:#0000FF;fill-rule:evenodd;fill-opacity:1;stroke:#0000FF;stroke-width:1.0px;stroke-linecap:butt;stroke-linejoin:miter;stroke-opacity:1;\"/>\n",
       "<path class=\"bond-10 atom-9 atom-11\" d=\"M 305.3,176.1 L 299.4,176.1 L 296.5,199.2 Z\" style=\"fill:#0000FF;fill-rule:evenodd;fill-opacity:1;stroke:#0000FF;stroke-width:1.0px;stroke-linecap:butt;stroke-linejoin:miter;stroke-opacity:1;\"/>\n",
       "<path class=\"bond-11 atom-10 atom-12\" d=\"M 352.7,126.3 L 374.2,137.0\" style=\"fill:none;fill-rule:evenodd;stroke:#000000;stroke-width:2.0px;stroke-linecap:butt;stroke-linejoin:miter;stroke-opacity:1\"/>\n",
       "<path class=\"bond-11 atom-10 atom-12\" d=\"M 374.2,137.0 L 395.8,147.8\" style=\"fill:none;fill-rule:evenodd;stroke:#FF0000;stroke-width:2.0px;stroke-linecap:butt;stroke-linejoin:miter;stroke-opacity:1\"/>\n",
       "<path class=\"bond-12 atom-10 atom-13\" d=\"M 346.4,126.3 L 346.4,102.3\" style=\"fill:none;fill-rule:evenodd;stroke:#000000;stroke-width:2.0px;stroke-linecap:butt;stroke-linejoin:miter;stroke-opacity:1\"/>\n",
       "<path class=\"bond-12 atom-10 atom-13\" d=\"M 346.4,102.3 L 346.4,78.4\" style=\"fill:none;fill-rule:evenodd;stroke:#FF0000;stroke-width:2.0px;stroke-linecap:butt;stroke-linejoin:miter;stroke-opacity:1\"/>\n",
       "<path class=\"bond-12 atom-10 atom-13\" d=\"M 359.0,126.3 L 359.0,102.3\" style=\"fill:none;fill-rule:evenodd;stroke:#000000;stroke-width:2.0px;stroke-linecap:butt;stroke-linejoin:miter;stroke-opacity:1\"/>\n",
       "<path class=\"bond-12 atom-10 atom-13\" d=\"M 359.0,102.3 L 359.0,78.4\" style=\"fill:none;fill-rule:evenodd;stroke:#FF0000;stroke-width:2.0px;stroke-linecap:butt;stroke-linejoin:miter;stroke-opacity:1\"/>\n",
       "<path class=\"bond-13 atom-6 atom-7\" d=\"M 198.8,152.9 L 198.8,212.1\" style=\"fill:none;fill-rule:evenodd;stroke:#000000;stroke-width:2.0px;stroke-linecap:butt;stroke-linejoin:miter;stroke-opacity:1\"/>\n",
       "<path class=\"bond-13 atom-6 atom-7\" d=\"M 186.1,161.8 L 186.1,203.2\" style=\"fill:none;fill-rule:evenodd;stroke:#000000;stroke-width:2.0px;stroke-linecap:butt;stroke-linejoin:miter;stroke-opacity:1\"/>\n",
       "<path class=\"atom-3\" d=\"M 20.5 114.4 L 22.9 114.4 L 22.9 122.1 L 32.1 122.1 L 32.1 114.4 L 34.5 114.4 L 34.5 132.4 L 32.1 132.4 L 32.1 124.1 L 22.9 124.1 L 22.9 132.4 L 20.5 132.4 L 20.5 114.4 \" fill=\"#FF0000\"/>\n",
       "<path class=\"atom-3\" d=\"M 36.7 123.4 Q 36.7 119.0, 38.8 116.6 Q 40.9 114.2, 44.9 114.2 Q 48.9 114.2, 51.0 116.6 Q 53.2 119.0, 53.2 123.4 Q 53.2 127.7, 51.0 130.2 Q 48.8 132.7, 44.9 132.7 Q 41.0 132.7, 38.8 130.2 Q 36.7 127.7, 36.7 123.4 M 44.9 130.6 Q 47.6 130.6, 49.1 128.8 Q 50.6 127.0, 50.6 123.4 Q 50.6 119.8, 49.1 118.1 Q 47.6 116.3, 44.9 116.3 Q 42.2 116.3, 40.7 118.0 Q 39.2 119.8, 39.2 123.4 Q 39.2 127.0, 40.7 128.8 Q 42.2 130.6, 44.9 130.6 \" fill=\"#FF0000\"/>\n",
       "<path class=\"atom-5\" d=\"M 20.5 232.8 L 22.9 232.8 L 22.9 240.4 L 32.1 240.4 L 32.1 232.8 L 34.5 232.8 L 34.5 250.8 L 32.1 250.8 L 32.1 242.5 L 22.9 242.5 L 22.9 250.8 L 20.5 250.8 L 20.5 232.8 \" fill=\"#FF0000\"/>\n",
       "<path class=\"atom-5\" d=\"M 36.7 241.7 Q 36.7 237.4, 38.8 235.0 Q 40.9 232.6, 44.9 232.6 Q 48.9 232.6, 51.0 235.0 Q 53.2 237.4, 53.2 241.7 Q 53.2 246.1, 51.0 248.6 Q 48.8 251.1, 44.9 251.1 Q 41.0 251.1, 38.8 248.6 Q 36.7 246.1, 36.7 241.7 M 44.9 249.0 Q 47.6 249.0, 49.1 247.2 Q 50.6 245.3, 50.6 241.7 Q 50.6 238.2, 49.1 236.4 Q 47.6 234.6, 44.9 234.6 Q 42.2 234.6, 40.7 236.4 Q 39.2 238.2, 39.2 241.7 Q 39.2 245.4, 40.7 247.2 Q 42.2 249.0, 44.9 249.0 \" fill=\"#FF0000\"/>\n",
       "<path class=\"atom-11\" d=\"M 298.4 203.1 L 304.3 212.6 Q 304.9 213.6, 305.8 215.3 Q 306.8 217.0, 306.8 217.1 L 306.8 203.1 L 309.2 203.1 L 309.2 221.1 L 306.7 221.1 L 300.4 210.7 Q 299.7 209.5, 298.9 208.1 Q 298.1 206.7, 297.9 206.2 L 297.9 221.1 L 295.6 221.1 L 295.6 203.1 L 298.4 203.1 \" fill=\"#0000FF\"/>\n",
       "<path class=\"atom-11\" d=\"M 311.3 203.1 L 313.7 203.1 L 313.7 210.8 L 322.9 210.8 L 322.9 203.1 L 325.4 203.1 L 325.4 221.1 L 322.9 221.1 L 322.9 212.8 L 313.7 212.8 L 313.7 221.1 L 311.3 221.1 L 311.3 203.1 \" fill=\"#0000FF\"/>\n",
       "<path class=\"atom-11\" d=\"M 327.6 220.4 Q 328.0 219.3, 329.0 218.7 Q 330.1 218.1, 331.5 218.1 Q 333.3 218.1, 334.3 219.0 Q 335.3 220.0, 335.3 221.7 Q 335.3 223.5, 334.0 225.1 Q 332.7 226.8, 330.0 228.7 L 335.5 228.7 L 335.5 230.1 L 327.5 230.1 L 327.5 228.9 Q 329.7 227.4, 331.0 226.2 Q 332.4 225.0, 333.0 224.0 Q 333.6 222.9, 333.6 221.8 Q 333.6 220.7, 333.1 220.0 Q 332.5 219.4, 331.5 219.4 Q 330.6 219.4, 329.9 219.8 Q 329.3 220.2, 328.8 221.0 L 327.6 220.4 \" fill=\"#0000FF\"/>\n",
       "<path class=\"atom-12\" d=\"M 397.7 153.0 Q 397.7 148.6, 399.9 146.2 Q 402.0 143.8, 406.0 143.8 Q 410.0 143.8, 412.1 146.2 Q 414.2 148.6, 414.2 153.0 Q 414.2 157.3, 412.1 159.8 Q 409.9 162.3, 406.0 162.3 Q 402.0 162.3, 399.9 159.8 Q 397.7 157.3, 397.7 153.0 M 406.0 160.2 Q 408.7 160.2, 410.2 158.4 Q 411.7 156.6, 411.7 153.0 Q 411.7 149.4, 410.2 147.7 Q 408.7 145.9, 406.0 145.9 Q 403.2 145.9, 401.7 147.6 Q 400.3 149.4, 400.3 153.0 Q 400.3 156.6, 401.7 158.4 Q 403.2 160.2, 406.0 160.2 \" fill=\"#FF0000\"/>\n",
       "<path class=\"atom-12\" d=\"M 415.5 144.0 L 417.9 144.0 L 417.9 151.7 L 427.1 151.7 L 427.1 144.0 L 429.5 144.0 L 429.5 162.0 L 427.1 162.0 L 427.1 153.7 L 417.9 153.7 L 417.9 162.0 L 415.5 162.0 L 415.5 144.0 \" fill=\"#FF0000\"/>\n",
       "<path class=\"atom-13\" d=\"M 344.5 67.1 Q 344.5 62.8, 346.6 60.4 Q 348.7 58.0, 352.7 58.0 Q 356.7 58.0, 358.8 60.4 Q 361.0 62.8, 361.0 67.1 Q 361.0 71.5, 358.8 74.0 Q 356.6 76.4, 352.7 76.4 Q 348.7 76.4, 346.6 74.0 Q 344.5 71.5, 344.5 67.1 M 352.7 74.4 Q 355.4 74.4, 356.9 72.6 Q 358.4 70.7, 358.4 67.1 Q 358.4 63.6, 356.9 61.8 Q 355.4 60.0, 352.7 60.0 Q 350.0 60.0, 348.5 61.8 Q 347.0 63.6, 347.0 67.1 Q 347.0 70.8, 348.5 72.6 Q 350.0 74.4, 352.7 74.4 \" fill=\"#FF0000\"/>\n",
       "<path class=\"note\" d=\"M 71.8 168.2 Q 70.2 168.2, 69.3 167.0 Q 68.5 165.8, 68.5 163.6 Q 68.5 161.4, 69.3 160.2 Q 70.1 159.0, 71.8 159.0 Q 73.5 159.0, 74.3 160.2 Q 75.1 161.4, 75.1 163.6 Q 75.1 165.8, 74.3 167.0 Q 73.4 168.2, 71.8 168.2 M 71.8 167.2 Q 72.8 167.2, 73.3 166.3 Q 73.8 165.4, 73.8 163.6 Q 73.8 161.8, 73.3 160.9 Q 72.8 160.0, 71.8 160.0 Q 70.8 160.0, 70.3 160.9 Q 69.8 161.8, 69.8 163.6 Q 69.8 165.4, 70.3 166.3 Q 70.8 167.2, 71.8 167.2 \" fill=\"#000000\"/>\n",
       "<path class=\"note\" d=\"M 75.9 166.8 L 77.2 166.8 L 77.2 168.1 L 75.9 168.1 L 75.9 166.8 \" fill=\"#000000\"/>\n",
       "<path class=\"note\" d=\"M 81.0 159.0 Q 82.6 159.0, 83.4 160.1 Q 84.2 161.2, 84.2 163.3 Q 84.2 165.7, 83.2 167.0 Q 82.2 168.2, 80.3 168.2 Q 79.8 168.2, 79.3 168.1 Q 78.8 167.9, 78.4 167.7 L 78.9 166.8 Q 79.5 167.2, 80.3 167.2 Q 81.6 167.2, 82.2 166.4 Q 82.9 165.5, 82.9 163.9 Q 82.5 164.3, 81.9 164.5 Q 81.3 164.7, 80.7 164.7 Q 79.9 164.7, 79.3 164.4 Q 78.7 164.0, 78.3 163.4 Q 78.0 162.8, 78.0 162.0 Q 78.0 161.1, 78.4 160.5 Q 78.8 159.8, 79.5 159.4 Q 80.1 159.0, 81.0 159.0 M 79.3 162.0 Q 79.3 162.8, 79.7 163.2 Q 80.2 163.7, 80.9 163.7 Q 81.5 163.7, 82.0 163.5 Q 82.6 163.3, 82.9 162.9 Q 82.9 161.4, 82.4 160.7 Q 82.0 160.0, 81.0 160.0 Q 80.5 160.0, 80.1 160.3 Q 79.7 160.6, 79.5 161.0 Q 79.3 161.4, 79.3 162.0 \" fill=\"#000000\"/>\n",
       "<path class=\"note\" d=\"M 88.1 159.0 Q 89.7 159.0, 90.5 160.1 Q 91.3 161.2, 91.3 163.3 Q 91.3 165.7, 90.3 167.0 Q 89.3 168.2, 87.4 168.2 Q 86.9 168.2, 86.4 168.1 Q 85.9 167.9, 85.4 167.7 L 85.9 166.8 Q 86.6 167.2, 87.4 167.2 Q 88.7 167.2, 89.3 166.4 Q 90.0 165.5, 90.0 163.9 Q 89.6 164.3, 89.0 164.5 Q 88.4 164.7, 87.8 164.7 Q 87.0 164.7, 86.4 164.4 Q 85.8 164.0, 85.4 163.4 Q 85.1 162.8, 85.1 162.0 Q 85.1 161.1, 85.5 160.5 Q 85.9 159.8, 86.6 159.4 Q 87.2 159.0, 88.1 159.0 M 86.4 162.0 Q 86.4 162.8, 86.8 163.2 Q 87.2 163.7, 88.0 163.7 Q 88.6 163.7, 89.1 163.5 Q 89.7 163.3, 90.0 162.9 Q 90.0 161.4, 89.5 160.7 Q 89.0 160.0, 88.1 160.0 Q 87.6 160.0, 87.2 160.3 Q 86.8 160.6, 86.6 161.0 Q 86.4 161.4, 86.4 162.0 \" fill=\"#000000\"/>\n",
       "<path class=\"note\" d=\"M 90.0 237.9 Q 88.4 237.9, 87.6 236.7 Q 86.8 235.4, 86.8 233.3 Q 86.8 231.1, 87.6 229.9 Q 88.4 228.7, 90.0 228.7 Q 91.7 228.7, 92.5 229.9 Q 93.3 231.1, 93.3 233.3 Q 93.3 235.4, 92.5 236.7 Q 91.7 237.9, 90.0 237.9 M 90.0 236.9 Q 91.0 236.9, 91.5 236.0 Q 92.1 235.0, 92.1 233.3 Q 92.1 231.5, 91.5 230.6 Q 91.0 229.7, 90.0 229.7 Q 89.1 229.7, 88.6 230.6 Q 88.0 231.5, 88.0 233.3 Q 88.0 235.0, 88.6 236.0 Q 89.1 236.9, 90.0 236.9 \" fill=\"#000000\"/>\n",
       "<path class=\"note\" d=\"M 94.2 236.5 L 95.4 236.5 L 95.4 237.8 L 94.2 237.8 L 94.2 236.5 \" fill=\"#000000\"/>\n",
       "<path class=\"note\" d=\"M 100.8 233.0 Q 101.7 233.4, 102.1 233.9 Q 102.6 234.4, 102.6 235.3 Q 102.6 236.1, 102.2 236.7 Q 101.8 237.3, 101.1 237.6 Q 100.4 237.9, 99.5 237.9 Q 98.0 237.9, 97.1 237.2 Q 96.3 236.5, 96.3 235.3 Q 96.3 234.6, 96.6 234.0 Q 97.0 233.5, 97.8 233.1 Q 97.2 232.7, 96.9 232.2 Q 96.6 231.8, 96.6 231.0 Q 96.6 229.9, 97.3 229.3 Q 98.1 228.7, 99.4 228.7 Q 100.7 228.7, 101.5 229.3 Q 102.3 229.9, 102.3 231.0 Q 102.3 231.7, 101.9 232.1 Q 101.5 232.6, 100.8 233.0 M 99.4 229.6 Q 98.7 229.6, 98.3 230.0 Q 97.8 230.4, 97.8 231.0 Q 97.8 231.5, 98.1 231.8 Q 98.4 232.1, 98.8 232.3 Q 99.2 232.4, 100.0 232.7 Q 100.5 232.3, 100.8 231.9 Q 101.0 231.5, 101.0 231.0 Q 101.0 230.4, 100.6 230.0 Q 100.2 229.6, 99.4 229.6 M 99.5 237.0 Q 100.3 237.0, 100.8 236.5 Q 101.3 236.1, 101.3 235.3 Q 101.3 234.8, 101.1 234.5 Q 100.8 234.2, 100.4 234.0 Q 100.0 233.9, 99.3 233.6 L 98.7 233.4 Q 98.1 233.8, 97.8 234.3 Q 97.5 234.7, 97.5 235.3 Q 97.5 236.1, 98.1 236.5 Q 98.6 237.0, 99.5 237.0 \" fill=\"#000000\"/>\n",
       "<path class=\"note\" d=\"M 107.7 233.0 Q 108.6 233.3, 109.0 233.9 Q 109.4 234.4, 109.4 235.3 Q 109.4 236.1, 109.0 236.7 Q 108.7 237.3, 108.0 237.6 Q 107.3 237.9, 106.4 237.9 Q 105.4 237.9, 104.7 237.6 Q 104.0 237.2, 103.4 236.5 L 104.1 235.8 Q 104.7 236.4, 105.1 236.7 Q 105.6 236.9, 106.4 236.9 Q 107.2 236.9, 107.7 236.5 Q 108.2 236.0, 108.2 235.3 Q 108.2 234.4, 107.6 234.0 Q 107.1 233.6, 106.0 233.6 L 105.4 233.6 L 105.4 232.7 L 106.0 232.7 Q 106.9 232.6, 107.5 232.2 Q 108.0 231.8, 108.0 231.0 Q 108.0 230.4, 107.5 230.1 Q 107.1 229.7, 106.4 229.7 Q 105.6 229.7, 105.2 230.0 Q 104.7 230.2, 104.3 230.9 L 103.5 230.4 Q 103.8 229.7, 104.5 229.2 Q 105.3 228.7, 106.4 228.7 Q 107.7 228.7, 108.5 229.3 Q 109.2 229.9, 109.2 231.0 Q 109.2 231.7, 108.8 232.2 Q 108.5 232.8, 107.7 233.0 \" fill=\"#000000\"/>\n",
       "<path class=\"note\" d=\"M 140.6 117.4 Q 139.0 117.4, 138.2 116.2 Q 137.3 114.9, 137.3 112.8 Q 137.3 110.6, 138.2 109.4 Q 139.0 108.2, 140.6 108.2 Q 142.3 108.2, 143.1 109.4 Q 143.9 110.6, 143.9 112.8 Q 143.9 114.9, 143.1 116.2 Q 142.3 117.4, 140.6 117.4 M 140.6 116.4 Q 141.6 116.4, 142.1 115.5 Q 142.6 114.6, 142.6 112.8 Q 142.6 111.0, 142.1 110.1 Q 141.6 109.2, 140.6 109.2 Q 139.7 109.2, 139.1 110.1 Q 138.6 111.0, 138.6 112.8 Q 138.6 114.6, 139.1 115.5 Q 139.7 116.4, 140.6 116.4 \" fill=\"#000000\"/>\n",
       "<path class=\"note\" d=\"M 144.7 116.0 L 146.0 116.0 L 146.0 117.3 L 144.7 117.3 L 144.7 116.0 \" fill=\"#000000\"/>\n",
       "<path class=\"note\" d=\"M 150.1 117.4 Q 148.5 117.4, 147.6 116.2 Q 146.8 114.9, 146.8 112.8 Q 146.8 110.6, 147.6 109.4 Q 148.5 108.2, 150.1 108.2 Q 151.8 108.2, 152.6 109.4 Q 153.4 110.6, 153.4 112.8 Q 153.4 114.9, 152.6 116.2 Q 151.8 117.4, 150.1 117.4 M 150.1 116.4 Q 151.1 116.4, 151.6 115.5 Q 152.1 114.6, 152.1 112.8 Q 152.1 111.0, 151.6 110.1 Q 151.1 109.2, 150.1 109.2 Q 149.2 109.2, 148.6 110.1 Q 148.1 111.0, 148.1 112.8 Q 148.1 114.6, 148.6 115.5 Q 149.2 116.4, 150.1 116.4 \" fill=\"#000000\"/>\n",
       "<path class=\"note\" d=\"M 154.7 116.3 L 156.7 116.3 L 156.7 109.6 L 154.5 110.2 L 154.2 109.5 L 157.0 108.2 L 157.9 108.4 L 157.9 116.3 L 159.6 116.3 L 159.6 117.3 L 154.7 117.3 L 154.7 116.3 \" fill=\"#000000\"/>\n",
       "<path class=\"note\" d=\"M 25.9 109.8 Q 24.2 109.8, 23.4 108.6 Q 22.6 107.4, 22.6 105.2 Q 22.6 103.0, 23.4 101.8 Q 24.2 100.6, 25.9 100.6 Q 27.6 100.6, 28.4 101.8 Q 29.2 103.0, 29.2 105.2 Q 29.2 107.4, 28.4 108.6 Q 27.5 109.8, 25.9 109.8 M 25.9 108.8 Q 26.9 108.8, 27.4 107.9 Q 27.9 107.0, 27.9 105.2 Q 27.9 103.5, 27.4 102.6 Q 26.9 101.7, 25.9 101.7 Q 24.9 101.7, 24.4 102.6 Q 23.9 103.5, 23.9 105.2 Q 23.9 107.0, 24.4 107.9 Q 24.9 108.8, 25.9 108.8 \" fill=\"#000000\"/>\n",
       "<path class=\"note\" d=\"M 30.0 108.5 L 31.3 108.5 L 31.3 109.7 L 30.0 109.7 L 30.0 108.5 \" fill=\"#000000\"/>\n",
       "<path class=\"note\" d=\"M 36.7 105.0 Q 37.5 105.3, 38.0 105.9 Q 38.4 106.4, 38.4 107.3 Q 38.4 108.0, 38.0 108.6 Q 37.7 109.2, 36.9 109.5 Q 36.2 109.8, 35.3 109.8 Q 33.8 109.8, 33.0 109.2 Q 32.1 108.5, 32.1 107.3 Q 32.1 106.5, 32.5 106.0 Q 32.9 105.4, 33.6 105.0 Q 33.1 104.7, 32.7 104.2 Q 32.4 103.7, 32.4 102.9 Q 32.4 101.9, 33.2 101.3 Q 34.0 100.6, 35.3 100.6 Q 36.6 100.6, 37.3 101.3 Q 38.1 101.9, 38.1 102.9 Q 38.1 103.6, 37.7 104.1 Q 37.4 104.6, 36.7 105.0 M 35.3 101.6 Q 34.5 101.6, 34.1 101.9 Q 33.7 102.3, 33.7 102.9 Q 33.7 103.4, 34.0 103.7 Q 34.3 104.0, 34.6 104.2 Q 35.1 104.4, 35.8 104.6 Q 36.4 104.3, 36.6 103.9 Q 36.8 103.5, 36.8 102.9 Q 36.8 102.3, 36.4 101.9 Q 36.0 101.6, 35.3 101.6 M 35.3 108.9 Q 36.2 108.9, 36.7 108.5 Q 37.2 108.0, 37.2 107.2 Q 37.2 106.8, 36.9 106.5 Q 36.6 106.2, 36.2 106.0 Q 35.8 105.8, 35.1 105.6 L 34.6 105.4 Q 33.9 105.8, 33.6 106.2 Q 33.4 106.7, 33.4 107.2 Q 33.4 108.0, 33.9 108.5 Q 34.4 108.9, 35.3 108.9 \" fill=\"#000000\"/>\n",
       "<path class=\"note\" d=\"M 42.8 104.1 Q 43.5 104.1, 44.2 104.5 Q 44.8 104.8, 45.1 105.4 Q 45.5 106.0, 45.5 106.8 Q 45.5 107.7, 45.1 108.4 Q 44.7 109.1, 44.0 109.4 Q 43.3 109.8, 42.4 109.8 Q 40.8 109.8, 40.0 108.7 Q 39.2 107.7, 39.2 105.5 Q 39.2 103.1, 40.2 101.9 Q 41.2 100.6, 43.1 100.6 Q 43.7 100.6, 44.2 100.8 Q 44.7 100.9, 45.1 101.2 L 44.6 102.0 Q 44.0 101.7, 43.2 101.7 Q 41.9 101.7, 41.2 102.5 Q 40.6 103.3, 40.5 105.0 Q 41.0 104.6, 41.5 104.3 Q 42.1 104.1, 42.8 104.1 M 42.5 108.8 Q 42.9 108.8, 43.3 108.5 Q 43.7 108.3, 44.0 107.8 Q 44.2 107.4, 44.2 106.8 Q 44.2 106.0, 43.8 105.6 Q 43.3 105.1, 42.5 105.1 Q 42.0 105.1, 41.4 105.4 Q 40.9 105.6, 40.5 106.0 Q 40.6 107.4, 41.0 108.1 Q 41.5 108.8, 42.5 108.8 \" fill=\"#000000\"/>\n",
       "<path class=\"note\" d=\"M 141.1 256.9 Q 139.4 256.9, 138.6 255.7 Q 137.8 254.5, 137.8 252.3 Q 137.8 250.1, 138.6 248.9 Q 139.4 247.7, 141.1 247.7 Q 142.7 247.7, 143.6 248.9 Q 144.4 250.1, 144.4 252.3 Q 144.4 254.5, 143.5 255.7 Q 142.7 256.9, 141.1 256.9 M 141.1 255.9 Q 142.1 255.9, 142.6 255.0 Q 143.1 254.1, 143.1 252.3 Q 143.1 250.5, 142.6 249.6 Q 142.1 248.7, 141.1 248.7 Q 140.1 248.7, 139.6 249.6 Q 139.1 250.5, 139.1 252.3 Q 139.1 254.1, 139.6 255.0 Q 140.1 255.9, 141.1 255.9 \" fill=\"#000000\"/>\n",
       "<path class=\"note\" d=\"M 145.2 255.5 L 146.5 255.5 L 146.5 256.8 L 145.2 256.8 L 145.2 255.5 \" fill=\"#000000\"/>\n",
       "<path class=\"note\" d=\"M 147.8 255.8 L 149.7 255.8 L 149.7 249.1 L 147.6 249.8 L 147.3 249.0 L 150.0 247.8 L 150.9 247.9 L 150.9 255.8 L 152.7 255.8 L 152.7 256.8 L 147.8 256.8 L 147.8 255.8 \" fill=\"#000000\"/>\n",
       "<path class=\"note\" d=\"M 157.9 248.8 L 153.2 248.8 L 153.2 247.8 L 159.2 247.8 L 159.2 248.7 L 155.6 256.8 L 154.3 256.8 L 157.9 248.8 \" fill=\"#000000\"/>\n",
       "<path class=\"note\" d=\"M 26.5 227.9 Q 24.9 227.9, 24.0 226.6 Q 23.2 225.4, 23.2 223.3 Q 23.2 221.1, 24.0 219.9 Q 24.8 218.7, 26.5 218.7 Q 28.2 218.7, 29.0 219.9 Q 29.8 221.1, 29.8 223.3 Q 29.8 225.4, 29.0 226.6 Q 28.2 227.9, 26.5 227.9 M 26.5 226.8 Q 27.5 226.8, 28.0 225.9 Q 28.5 225.0, 28.5 223.3 Q 28.5 221.5, 28.0 220.6 Q 27.5 219.7, 26.5 219.7 Q 25.5 219.7, 25.0 220.6 Q 24.5 221.5, 24.5 223.3 Q 24.5 225.0, 25.0 225.9 Q 25.5 226.8, 26.5 226.8 \" fill=\"#000000\"/>\n",
       "<path class=\"note\" d=\"M 30.6 226.5 L 31.9 226.5 L 31.9 227.8 L 30.6 227.8 L 30.6 226.5 \" fill=\"#000000\"/>\n",
       "<path class=\"note\" d=\"M 36.0 227.9 Q 34.3 227.9, 33.5 226.6 Q 32.7 225.4, 32.7 223.3 Q 32.7 221.1, 33.5 219.9 Q 34.3 218.7, 36.0 218.7 Q 37.7 218.7, 38.5 219.9 Q 39.3 221.1, 39.3 223.3 Q 39.3 225.4, 38.5 226.6 Q 37.6 227.9, 36.0 227.9 M 36.0 226.8 Q 37.0 226.8, 37.5 225.9 Q 38.0 225.0, 38.0 223.3 Q 38.0 221.5, 37.5 220.6 Q 37.0 219.7, 36.0 219.7 Q 35.0 219.7, 34.5 220.6 Q 34.0 221.5, 34.0 223.3 Q 34.0 225.0, 34.5 225.9 Q 35.0 226.8, 36.0 226.8 \" fill=\"#000000\"/>\n",
       "<path class=\"note\" d=\"M 44.8 219.8 L 40.1 219.8 L 40.1 218.8 L 46.1 218.8 L 46.1 219.7 L 42.4 227.8 L 41.2 227.8 L 44.8 219.8 \" fill=\"#000000\"/>\n",
       "<path class=\"note\" d=\"M 192.1 136.4 Q 190.4 136.4, 189.6 135.2 Q 188.8 134.0, 188.8 131.8 Q 188.8 129.6, 189.6 128.4 Q 190.4 127.2, 192.1 127.2 Q 193.7 127.2, 194.5 128.4 Q 195.4 129.6, 195.4 131.8 Q 195.4 134.0, 194.5 135.2 Q 193.7 136.4, 192.1 136.4 M 192.1 135.4 Q 193.0 135.4, 193.6 134.5 Q 194.1 133.6, 194.1 131.8 Q 194.1 130.1, 193.6 129.2 Q 193.0 128.3, 192.1 128.3 Q 191.1 128.3, 190.6 129.2 Q 190.1 130.1, 190.1 131.8 Q 190.1 133.6, 190.6 134.5 Q 191.1 135.4, 192.1 135.4 \" fill=\"#000000\"/>\n",
       "<path class=\"note\" d=\"M 196.2 135.0 L 197.4 135.0 L 197.4 136.3 L 196.2 136.3 L 196.2 135.0 \" fill=\"#000000\"/>\n",
       "<path class=\"note\" d=\"M 198.8 135.3 L 200.7 135.3 L 200.7 128.6 L 198.6 129.3 L 198.3 128.5 L 201.0 127.3 L 201.9 127.4 L 201.9 135.3 L 203.7 135.3 L 203.7 136.3 L 198.8 136.3 L 198.8 135.3 \" fill=\"#000000\"/>\n",
       "<path class=\"note\" d=\"M 204.2 129.0 Q 204.6 128.2, 205.4 127.7 Q 206.1 127.2, 207.2 127.2 Q 208.6 127.2, 209.4 128.0 Q 210.1 128.7, 210.1 130.0 Q 210.1 131.3, 209.1 132.6 Q 208.2 133.8, 206.1 135.3 L 210.3 135.3 L 210.3 136.3 L 204.2 136.3 L 204.2 135.5 Q 205.9 134.3, 206.9 133.4 Q 207.9 132.5, 208.4 131.7 Q 208.8 130.9, 208.8 130.1 Q 208.8 129.2, 208.4 128.7 Q 208.0 128.3, 207.2 128.3 Q 206.5 128.3, 206.0 128.5 Q 205.6 128.8, 205.2 129.5 L 204.2 129.0 \" fill=\"#000000\"/>\n",
       "<path class=\"note\" d=\"M 208.8 227.2 Q 207.2 227.2, 206.4 226.0 Q 205.6 224.8, 205.6 222.6 Q 205.6 220.5, 206.4 219.3 Q 207.2 218.1, 208.8 218.1 Q 210.5 218.1, 211.3 219.3 Q 212.1 220.5, 212.1 222.6 Q 212.1 224.8, 211.3 226.0 Q 210.5 227.2, 208.8 227.2 M 208.8 226.2 Q 209.8 226.2, 210.3 225.3 Q 210.9 224.4, 210.9 222.6 Q 210.9 220.9, 210.3 220.0 Q 209.8 219.1, 208.8 219.1 Q 207.9 219.1, 207.3 220.0 Q 206.8 220.9, 206.8 222.6 Q 206.8 224.4, 207.3 225.3 Q 207.9 226.2, 208.8 226.2 \" fill=\"#000000\"/>\n",
       "<path class=\"note\" d=\"M 212.9 225.9 L 214.2 225.9 L 214.2 227.1 L 212.9 227.1 L 212.9 225.9 \" fill=\"#000000\"/>\n",
       "<path class=\"note\" d=\"M 215.1 219.9 Q 215.4 219.0, 216.2 218.5 Q 217.0 218.1, 218.1 218.1 Q 219.4 218.1, 220.2 218.8 Q 220.9 219.5, 220.9 220.8 Q 220.9 222.2, 219.9 223.4 Q 219.0 224.6, 216.9 226.1 L 221.1 226.1 L 221.1 227.1 L 215.0 227.1 L 215.0 226.3 Q 216.7 225.1, 217.7 224.2 Q 218.7 223.3, 219.2 222.5 Q 219.7 221.7, 219.7 220.9 Q 219.7 220.0, 219.2 219.5 Q 218.8 219.1, 218.1 219.1 Q 217.3 219.1, 216.9 219.4 Q 216.4 219.6, 216.0 220.3 L 215.1 219.9 \" fill=\"#000000\"/>\n",
       "<path class=\"note\" d=\"M 227.7 224.1 L 228.8 224.1 L 228.8 225.1 L 227.7 225.1 L 227.7 227.1 L 226.5 227.1 L 226.5 225.1 L 221.9 225.1 L 221.9 224.3 L 225.8 218.2 L 227.7 218.2 L 227.7 224.1 M 223.3 224.1 L 226.5 224.1 L 226.5 219.0 L 223.3 224.1 \" fill=\"#000000\"/>\n",
       "<path class=\"note\" d=\"M 244.7 120.3 Q 243.1 120.3, 242.3 119.1 Q 241.5 117.9, 241.5 115.7 Q 241.5 113.6, 242.3 112.4 Q 243.1 111.2, 244.7 111.2 Q 246.4 111.2, 247.2 112.4 Q 248.0 113.6, 248.0 115.7 Q 248.0 117.9, 247.2 119.1 Q 246.4 120.3, 244.7 120.3 M 244.7 119.3 Q 245.7 119.3, 246.2 118.4 Q 246.8 117.5, 246.8 115.7 Q 246.8 114.0, 246.2 113.1 Q 245.7 112.2, 244.7 112.2 Q 243.8 112.2, 243.2 113.1 Q 242.7 114.0, 242.7 115.7 Q 242.7 117.5, 243.2 118.4 Q 243.8 119.3, 244.7 119.3 \" fill=\"#000000\"/>\n",
       "<path class=\"note\" d=\"M 248.9 119.0 L 250.1 119.0 L 250.1 120.2 L 248.9 120.2 L 248.9 119.0 \" fill=\"#000000\"/>\n",
       "<path class=\"note\" d=\"M 251.4 119.2 L 253.4 119.2 L 253.4 112.5 L 251.2 113.2 L 250.9 112.4 L 253.7 111.2 L 254.6 111.4 L 254.6 119.2 L 256.4 119.2 L 256.4 120.2 L 251.4 120.2 L 251.4 119.2 \" fill=\"#000000\"/>\n",
       "<path class=\"note\" d=\"M 256.9 113.0 Q 257.3 112.1, 258.0 111.6 Q 258.8 111.2, 259.9 111.2 Q 261.3 111.2, 262.0 111.9 Q 262.8 112.6, 262.8 113.9 Q 262.8 115.3, 261.8 116.5 Q 260.8 117.8, 258.8 119.2 L 262.9 119.2 L 262.9 120.2 L 256.9 120.2 L 256.9 119.4 Q 258.6 118.2, 259.6 117.3 Q 260.6 116.4, 261.0 115.6 Q 261.5 114.8, 261.5 114.0 Q 261.5 113.1, 261.1 112.7 Q 260.7 112.2, 259.9 112.2 Q 259.2 112.2, 258.7 112.5 Q 258.2 112.8, 257.9 113.4 L 256.9 113.0 \" fill=\"#000000\"/>\n",
       "<path class=\"note\" d=\"M 294.5 136.4 Q 292.9 136.4, 292.1 135.2 Q 291.2 134.0, 291.2 131.8 Q 291.2 129.6, 292.1 128.4 Q 292.9 127.2, 294.5 127.2 Q 296.2 127.2, 297.0 128.4 Q 297.8 129.6, 297.8 131.8 Q 297.8 134.0, 297.0 135.2 Q 296.2 136.4, 294.5 136.4 M 294.5 135.4 Q 295.5 135.4, 296.0 134.5 Q 296.5 133.6, 296.5 131.8 Q 296.5 130.0, 296.0 129.1 Q 295.5 128.2, 294.5 128.2 Q 293.6 128.2, 293.0 129.1 Q 292.5 130.0, 292.5 131.8 Q 292.5 133.6, 293.0 134.5 Q 293.6 135.4, 294.5 135.4 \" fill=\"#000000\"/>\n",
       "<path class=\"note\" d=\"M 298.6 135.0 L 299.9 135.0 L 299.9 136.3 L 298.6 136.3 L 298.6 135.0 \" fill=\"#000000\"/>\n",
       "<path class=\"note\" d=\"M 304.0 136.4 Q 302.4 136.4, 301.5 135.2 Q 300.7 134.0, 300.7 131.8 Q 300.7 129.6, 301.5 128.4 Q 302.4 127.2, 304.0 127.2 Q 305.7 127.2, 306.5 128.4 Q 307.3 129.6, 307.3 131.8 Q 307.3 134.0, 306.5 135.2 Q 305.7 136.4, 304.0 136.4 M 304.0 135.4 Q 305.0 135.4, 305.5 134.5 Q 306.0 133.6, 306.0 131.8 Q 306.0 130.0, 305.5 129.1 Q 305.0 128.2, 304.0 128.2 Q 303.1 128.2, 302.5 129.1 Q 302.0 130.0, 302.0 131.8 Q 302.0 133.6, 302.5 134.5 Q 303.1 135.4, 304.0 135.4 \" fill=\"#000000\"/>\n",
       "<path class=\"note\" d=\"M 308.6 135.3 L 310.6 135.3 L 310.6 128.6 L 308.4 129.3 L 308.1 128.5 L 310.9 127.3 L 311.8 127.4 L 311.8 135.3 L 313.5 135.3 L 313.5 136.3 L 308.6 136.3 L 308.6 135.3 \" fill=\"#000000\"/>\n",
       "<path class=\"note\" d=\"M 344.8 152.0 Q 343.1 152.0, 342.3 150.8 Q 341.5 149.6, 341.5 147.4 Q 341.5 145.3, 342.3 144.1 Q 343.1 142.9, 344.8 142.9 Q 346.4 142.9, 347.2 144.1 Q 348.1 145.3, 348.1 147.4 Q 348.1 149.6, 347.2 150.8 Q 346.4 152.0, 344.8 152.0 M 344.8 151.0 Q 345.7 151.0, 346.3 150.1 Q 346.8 149.2, 346.8 147.4 Q 346.8 145.7, 346.3 144.8 Q 345.7 143.9, 344.8 143.9 Q 343.8 143.9, 343.3 144.8 Q 342.8 145.7, 342.8 147.4 Q 342.8 149.2, 343.3 150.1 Q 343.8 151.0, 344.8 151.0 \" fill=\"#000000\"/>\n",
       "<path class=\"note\" d=\"M 348.9 150.7 L 350.1 150.7 L 350.1 151.9 L 348.9 151.9 L 348.9 150.7 \" fill=\"#000000\"/>\n",
       "<path class=\"note\" d=\"M 354.3 152.0 Q 352.6 152.0, 351.8 150.8 Q 351.0 149.6, 351.0 147.4 Q 351.0 145.3, 351.8 144.1 Q 352.6 142.9, 354.3 142.9 Q 355.9 142.9, 356.7 144.1 Q 357.5 145.3, 357.5 147.4 Q 357.5 149.6, 356.7 150.8 Q 355.9 152.0, 354.3 152.0 M 354.3 151.0 Q 355.2 151.0, 355.8 150.1 Q 356.3 149.2, 356.3 147.4 Q 356.3 145.7, 355.8 144.8 Q 355.2 143.9, 354.3 143.9 Q 353.3 143.9, 352.8 144.8 Q 352.2 145.7, 352.2 147.4 Q 352.2 149.2, 352.8 150.1 Q 353.3 151.0, 354.3 151.0 \" fill=\"#000000\"/>\n",
       "<path class=\"note\" d=\"M 358.4 144.7 Q 358.7 143.8, 359.5 143.3 Q 360.3 142.9, 361.4 142.9 Q 362.7 142.9, 363.5 143.6 Q 364.3 144.3, 364.3 145.6 Q 364.3 147.0, 363.3 148.2 Q 362.3 149.5, 360.3 150.9 L 364.4 150.9 L 364.4 151.9 L 358.4 151.9 L 358.4 151.1 Q 360.0 149.9, 361.0 149.0 Q 362.0 148.1, 362.5 147.3 Q 363.0 146.5, 363.0 145.7 Q 363.0 144.8, 362.6 144.4 Q 362.1 143.9, 361.4 143.9 Q 360.7 143.9, 360.2 144.2 Q 359.7 144.5, 359.4 145.1 L 358.4 144.7 \" fill=\"#000000\"/>\n",
       "<path class=\"note\" d=\"M 293.8 237.9 Q 292.1 237.9, 291.3 236.7 Q 290.5 235.4, 290.5 233.3 Q 290.5 231.1, 291.3 229.9 Q 292.1 228.7, 293.8 228.7 Q 295.4 228.7, 296.3 229.9 Q 297.1 231.1, 297.1 233.3 Q 297.1 235.4, 296.2 236.7 Q 295.4 237.9, 293.8 237.9 M 293.8 236.9 Q 294.8 236.9, 295.3 236.0 Q 295.8 235.1, 295.8 233.3 Q 295.8 231.5, 295.3 230.6 Q 294.8 229.7, 293.8 229.7 Q 292.8 229.7, 292.3 230.6 Q 291.8 231.5, 291.8 233.3 Q 291.8 235.1, 292.3 236.0 Q 292.8 236.9, 293.8 236.9 \" fill=\"#000000\"/>\n",
       "<path class=\"note\" d=\"M 297.9 236.5 L 299.2 236.5 L 299.2 237.8 L 297.9 237.8 L 297.9 236.5 \" fill=\"#000000\"/>\n",
       "<path class=\"note\" d=\"M 303.3 237.9 Q 301.6 237.9, 300.8 236.7 Q 300.0 235.4, 300.0 233.3 Q 300.0 231.1, 300.8 229.9 Q 301.6 228.7, 303.3 228.7 Q 304.9 228.7, 305.7 229.9 Q 306.6 231.1, 306.6 233.3 Q 306.6 235.4, 305.7 236.7 Q 304.9 237.9, 303.3 237.9 M 303.3 236.9 Q 304.2 236.9, 304.8 236.0 Q 305.3 235.1, 305.3 233.3 Q 305.3 231.5, 304.8 230.6 Q 304.2 229.7, 303.3 229.7 Q 302.3 229.7, 301.8 230.6 Q 301.3 231.5, 301.3 233.3 Q 301.3 235.1, 301.8 236.0 Q 302.3 236.9, 303.3 236.9 \" fill=\"#000000\"/>\n",
       "<path class=\"note\" d=\"M 313.2 234.7 L 314.3 234.7 L 314.3 235.7 L 313.2 235.7 L 313.2 237.8 L 312.0 237.8 L 312.0 235.7 L 307.4 235.7 L 307.4 234.9 L 311.3 228.8 L 313.2 228.8 L 313.2 234.7 M 308.8 234.7 L 312.0 234.7 L 312.0 229.6 L 308.8 234.7 \" fill=\"#000000\"/>\n",
       "<path class=\"note\" d=\"M 409.8 175.2 Q 408.1 175.2, 407.3 174.0 Q 406.5 172.8, 406.5 170.6 Q 406.5 168.4, 407.3 167.2 Q 408.1 166.0, 409.8 166.0 Q 411.4 166.0, 412.2 167.2 Q 413.0 168.4, 413.0 170.6 Q 413.0 172.8, 412.2 174.0 Q 411.4 175.2, 409.8 175.2 M 409.8 174.2 Q 410.7 174.2, 411.3 173.3 Q 411.8 172.4, 411.8 170.6 Q 411.8 168.8, 411.3 167.9 Q 410.7 167.0, 409.8 167.0 Q 408.8 167.0, 408.3 167.9 Q 407.7 168.8, 407.7 170.6 Q 407.7 172.4, 408.3 173.3 Q 408.8 174.2, 409.8 174.2 \" fill=\"#000000\"/>\n",
       "<path class=\"note\" d=\"M 413.9 173.8 L 415.1 173.8 L 415.1 175.1 L 413.9 175.1 L 413.9 173.8 \" fill=\"#000000\"/>\n",
       "<path class=\"note\" d=\"M 419.3 175.2 Q 417.6 175.2, 416.8 174.0 Q 416.0 172.8, 416.0 170.6 Q 416.0 168.4, 416.8 167.2 Q 417.6 166.0, 419.3 166.0 Q 420.9 166.0, 421.7 167.2 Q 422.5 168.4, 422.5 170.6 Q 422.5 172.8, 421.7 174.0 Q 420.9 175.2, 419.3 175.2 M 419.3 174.2 Q 420.2 174.2, 420.7 173.3 Q 421.3 172.4, 421.3 170.6 Q 421.3 168.8, 420.7 167.9 Q 420.2 167.0, 419.3 167.0 Q 418.3 167.0, 417.8 167.9 Q 417.2 168.8, 417.2 170.6 Q 417.2 172.4, 417.8 173.3 Q 418.3 174.2, 419.3 174.2 \" fill=\"#000000\"/>\n",
       "<path class=\"note\" d=\"M 423.9 174.1 L 425.8 174.1 L 425.8 167.4 L 423.7 168.0 L 423.4 167.3 L 426.1 166.1 L 427.0 166.2 L 427.0 174.1 L 428.8 174.1 L 428.8 175.1 L 423.9 175.1 L 423.9 174.1 \" fill=\"#000000\"/>\n",
       "<path class=\"note\" d=\"M 344.3 50.6 Q 342.6 50.6, 341.8 49.4 Q 341.0 48.1, 341.0 46.0 Q 341.0 43.8, 341.8 42.6 Q 342.6 41.4, 344.3 41.4 Q 345.9 41.4, 346.7 42.6 Q 347.6 43.8, 347.6 46.0 Q 347.6 48.1, 346.7 49.4 Q 345.9 50.6, 344.3 50.6 M 344.3 49.6 Q 345.2 49.6, 345.8 48.7 Q 346.3 47.8, 346.3 46.0 Q 346.3 44.2, 345.8 43.3 Q 345.2 42.4, 344.3 42.4 Q 343.3 42.4, 342.8 43.3 Q 342.2 44.2, 342.2 46.0 Q 342.2 47.8, 342.8 48.7 Q 343.3 49.6, 344.3 49.6 \" fill=\"#000000\"/>\n",
       "<path class=\"note\" d=\"M 348.4 49.2 L 349.6 49.2 L 349.6 50.5 L 348.4 50.5 L 348.4 49.2 \" fill=\"#000000\"/>\n",
       "<path class=\"note\" d=\"M 353.8 50.6 Q 352.1 50.6, 351.3 49.4 Q 350.5 48.1, 350.5 46.0 Q 350.5 43.8, 351.3 42.6 Q 352.1 41.4, 353.8 41.4 Q 355.4 41.4, 356.2 42.6 Q 357.0 43.8, 357.0 46.0 Q 357.0 48.1, 356.2 49.4 Q 355.4 50.6, 353.8 50.6 M 353.8 49.6 Q 354.7 49.6, 355.2 48.7 Q 355.8 47.8, 355.8 46.0 Q 355.8 44.2, 355.2 43.3 Q 354.7 42.4, 353.8 42.4 Q 352.8 42.4, 352.3 43.3 Q 351.7 44.2, 351.7 46.0 Q 351.7 47.8, 352.3 48.7 Q 352.8 49.6, 353.8 49.6 \" fill=\"#000000\"/>\n",
       "<path class=\"note\" d=\"M 361.1 50.6 Q 359.5 50.6, 358.7 49.4 Q 357.9 48.1, 357.9 46.0 Q 357.9 43.8, 358.7 42.6 Q 359.5 41.4, 361.1 41.4 Q 362.8 41.4, 363.6 42.6 Q 364.4 43.8, 364.4 46.0 Q 364.4 48.1, 363.6 49.4 Q 362.8 50.6, 361.1 50.6 M 361.1 49.6 Q 362.1 49.6, 362.6 48.7 Q 363.2 47.8, 363.2 46.0 Q 363.2 44.2, 362.6 43.3 Q 362.1 42.4, 361.1 42.4 Q 360.2 42.4, 359.7 43.3 Q 359.1 44.2, 359.1 46.0 Q 359.1 47.8, 359.7 48.7 Q 360.2 49.6, 361.1 49.6 \" fill=\"#000000\"/>\n",
       "</svg>"
      ],
      "text/plain": [
       "<IPython.core.display.SVG object>"
      ]
     },
     "execution_count": 7,
     "metadata": {},
     "output_type": "execute_result"
    }
   ],
   "source": [
    "def hsvToRgb(h, s, v):\n",
    "    c = v * s\n",
    "    h /= 60.0\n",
    "    x = c * (1 - abs(h % 2 - 1))\n",
    "    if 0 <= h < 1:\n",
    "        r, g, b = (c, x, 0)\n",
    "    elif 1 <= h < 2:\n",
    "        r, g, b = (x, c, 0)\n",
    "    elif 2 <= h < 3:\n",
    "        r, g, b = (0, c, x)\n",
    "    elif 3 <= h < 4:\n",
    "        r, g, b = (0, x, c)\n",
    "    elif 4 <= h < 5:\n",
    "        r, g, b = (x, 0, c)\n",
    "    else:\n",
    "        r, g, b = (c, 0, x)\n",
    "    m = v - c\n",
    "    return (r + m, g + m, b + m)\n",
    "        \n",
    "highlights = {}\n",
    "highlightRadii = {}\n",
    "minY = torch.min(y).item()\n",
    "maxY = torch.max(y).item()\n",
    "for atom in mol.GetAtoms():\n",
    "    label = y[atom.GetIdx()].item()\n",
    "    atom.SetProp('atomNote', '%.2f' % label)\n",
    "    highlights[atom.GetIdx()] = [hsvToRgb(200, (label - minY) / (maxY - minY), 0.8)]\n",
    "    highlightRadii[atom.GetIdx()] = 0.4\n",
    "\n",
    "dwg = Draw.MolDraw2DSVG(450, 300)\n",
    "opt = dwg.drawOptions()\n",
    "opt.atomHighlightsAreCircles = True\n",
    "dwg.DrawMoleculeWithHighlights(mol, '', highlights, {}, highlightRadii, {})\n",
    "dwg.FinishDrawing()\n",
    "SVG(dwg.GetDrawingText().replace('svg:', ''))\n"
   ]
  }
 ],
 "metadata": {
  "kernelspec": {
   "display_name": "som",
   "language": "python",
   "name": "som"
  },
  "language_info": {
   "codemirror_mode": {
    "name": "ipython",
    "version": 3
   },
   "file_extension": ".py",
   "mimetype": "text/x-python",
   "name": "python",
   "nbconvert_exporter": "python",
   "pygments_lexer": "ipython3",
   "version": "3.9.13"
  }
 },
 "nbformat": 4,
 "nbformat_minor": 5
}
